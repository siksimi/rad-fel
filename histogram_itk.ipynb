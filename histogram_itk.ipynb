{
 "cells": [
  {
   "cell_type": "code",
   "execution_count": 8,
   "metadata": {},
   "outputs": [],
   "source": [
    "##Reference source : https://simpleitk.readthedocs.io/en/master/Examples/DemonsRegistration1/Documentation.html#lbl-demons-registration1\n",
    "from __future__ import print_function\n",
    "import SimpleITK as sitk\n",
    "import sys, os, time"
   ]
  },
  {
   "cell_type": "code",
   "execution_count": 13,
   "metadata": {},
   "outputs": [],
   "source": [
    "fixed = sitk.ReadImage('data-test/1001_002.tif')\n",
    "timestr = str(time.time())[:10]\n",
    "os.makedirs('output-'+timestr)\n",
    "for i in range(1001, 1185):\n",
    "    moving = sitk.ReadImage('data-test/'+str(i)+'_002.tif')\n",
    "    matcher = sitk.HistogramMatchingImageFilter()\n",
    "    \n",
    "    matcher.SetNumberOfHistogramLevels(256)\n",
    "    matcher.SetNumberOfMatchPoints(7)\n",
    "    ## matcher.ThresholdAtMeanIntensityOn()\n",
    "    \n",
    "    output = matcher.Execute(moving,fixed)\n",
    "    sitk.WriteImage(output, 'output-'+timestr+'/'+str(i)+'.tif')"
   ]
  },
  {
   "cell_type": "code",
   "execution_count": null,
   "metadata": {},
   "outputs": [],
   "source": []
  }
 ],
 "metadata": {
  "kernelspec": {
   "display_name": "Python 2",
   "language": "python",
   "name": "python2"
  },
  "language_info": {
   "codemirror_mode": {
    "name": "ipython",
    "version": 2
   },
   "file_extension": ".py",
   "mimetype": "text/x-python",
   "name": "python",
   "nbconvert_exporter": "python",
   "pygments_lexer": "ipython2",
   "version": "2.7.15"
  }
 },
 "nbformat": 4,
 "nbformat_minor": 2
}
